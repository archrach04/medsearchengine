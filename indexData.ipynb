{
 "cells": [
  {
   "cell_type": "code",
   "execution_count": 1,
   "metadata": {},
   "outputs": [],
   "source": [
    "from elasticsearch import Elasticsearch"
   ]
  },
  {
   "cell_type": "code",
   "execution_count": 2,
   "metadata": {},
   "outputs": [
    {
     "name": "stdout",
     "output_type": "stream",
     "text": [
      "True\n"
     ]
    }
   ],
   "source": [
    "es = Elasticsearch(\n",
    "    \"https://localhost:9200\",\n",
    "    basic_auth=(\"elastic\", \"UDdjs5w=6siS3emjl=Y5\"),\n",
    "    ca_certs=\"C:/Users/C4/Downloads/elasticsearch-8.16.1/config/certs/http_ca.crt\"\n",
    ")\n",
    "print(es.ping()) "
   ]
  },
  {
   "cell_type": "markdown",
   "metadata": {},
   "source": [
    "## Prepare the data"
   ]
  },
  {
   "cell_type": "code",
   "execution_count": 3,
   "metadata": {},
   "outputs": [],
   "source": [
    "import pandas as pd\n",
    "\n",
    "df = pd.read_csv(\"research.csv\")\n",
    "\n"
   ]
  },
  {
   "cell_type": "code",
   "execution_count": 4,
   "metadata": {},
   "outputs": [
    {
     "data": {
      "text/plain": [
       "doc_id  Title  Abstract  DOI  \n",
       "False   False  False     False    4291\n",
       "               True      False      15\n",
       "Name: count, dtype: int64"
      ]
     },
     "execution_count": 4,
     "metadata": {},
     "output_type": "execute_result"
    }
   ],
   "source": [
    "df.isna().value_counts()"
   ]
  },
  {
   "cell_type": "code",
   "execution_count": 5,
   "metadata": {},
   "outputs": [],
   "source": [
    "df.fillna(\"None\", inplace=True)"
   ]
  },
  {
   "cell_type": "markdown",
   "metadata": {},
   "source": [
    "## Convert the relevant field to Vector using BERT model"
   ]
  },
  {
   "cell_type": "code",
   "execution_count": null,
   "metadata": {},
   "outputs": [],
   "source": []
  },
  {
   "cell_type": "code",
   "execution_count": 6,
   "metadata": {},
   "outputs": [
    {
     "name": "stderr",
     "output_type": "stream",
     "text": [
      "c:\\Users\\C4\\AppData\\Local\\Programs\\Python\\Python310\\lib\\site-packages\\tqdm\\auto.py:21: TqdmWarning: IProgress not found. Please update jupyter and ipywidgets. See https://ipywidgets.readthedocs.io/en/stable/user_install.html\n",
      "  from .autonotebook import tqdm as notebook_tqdm\n"
     ]
    }
   ],
   "source": [
    "from sentence_transformers import SentenceTransformer\n",
    "model = SentenceTransformer('all-mpnet-base-v2')"
   ]
  },
  {
   "cell_type": "code",
   "execution_count": 7,
   "metadata": {},
   "outputs": [],
   "source": [
    "df[\"AbstractVector\"] = df[\"Abstract\"].apply(lambda x: model.encode(x))"
   ]
  },
  {
   "cell_type": "code",
   "execution_count": 15,
   "metadata": {},
   "outputs": [
    {
     "data": {
      "text/html": [
       "<div>\n",
       "<style scoped>\n",
       "    .dataframe tbody tr th:only-of-type {\n",
       "        vertical-align: middle;\n",
       "    }\n",
       "\n",
       "    .dataframe tbody tr th {\n",
       "        vertical-align: top;\n",
       "    }\n",
       "\n",
       "    .dataframe thead th {\n",
       "        text-align: right;\n",
       "    }\n",
       "</style>\n",
       "<table border=\"1\" class=\"dataframe\">\n",
       "  <thead>\n",
       "    <tr style=\"text-align: right;\">\n",
       "      <th></th>\n",
       "      <th>doc_id</th>\n",
       "      <th>Title</th>\n",
       "      <th>Abstract</th>\n",
       "      <th>DOI</th>\n",
       "      <th>AbstractVector</th>\n",
       "    </tr>\n",
       "  </thead>\n",
       "  <tbody>\n",
       "    <tr>\n",
       "      <th>0</th>\n",
       "      <td>1</td>\n",
       "      <td>[Light scattering by cell suspensions in norma...</td>\n",
       "      <td>The characteristics of light scattering of cel...</td>\n",
       "      <td>https://pubmed.ncbi.nlm.nih.gov/1100/</td>\n",
       "      <td>[0.006501656, -0.14199008, 0.009908089, -0.053...</td>\n",
       "    </tr>\n",
       "    <tr>\n",
       "      <th>1</th>\n",
       "      <td>2</td>\n",
       "      <td>[The fragmentation and reconstruction of the o...</td>\n",
       "      <td>The protein and proteolipid complexes and olig...</td>\n",
       "      <td>https://pubmed.ncbi.nlm.nih.gov/1103/</td>\n",
       "      <td>[0.0033499182, -0.053660918, 0.053273335, 0.02...</td>\n",
       "    </tr>\n",
       "    <tr>\n",
       "      <th>2</th>\n",
       "      <td>3</td>\n",
       "      <td>[Study of acetyl-CoA-synthetase from staphyloc...</td>\n",
       "      <td>Acetyl-CoA-synthetase was isolated from cells ...</td>\n",
       "      <td>https://pubmed.ncbi.nlm.nih.gov/1104/</td>\n",
       "      <td>[0.011662829, -0.02032138, 0.018208493, -0.043...</td>\n",
       "    </tr>\n",
       "    <tr>\n",
       "      <th>3</th>\n",
       "      <td>4</td>\n",
       "      <td>[Effect of prosthetic group of horseradish per...</td>\n",
       "      <td>Constants of inactivation rate of horseradish ...</td>\n",
       "      <td>https://pubmed.ncbi.nlm.nih.gov/1105/</td>\n",
       "      <td>[-0.023887841, -0.033442575, 0.030742425, -0.0...</td>\n",
       "    </tr>\n",
       "    <tr>\n",
       "      <th>4</th>\n",
       "      <td>5</td>\n",
       "      <td>[Wheat protein disulfide reductase]</td>\n",
       "      <td>Proteindisulphide reductase is isolated and pa...</td>\n",
       "      <td>https://pubmed.ncbi.nlm.nih.gov/1106/</td>\n",
       "      <td>[-0.042119388, -0.06871767, 0.014972381, 0.026...</td>\n",
       "    </tr>\n",
       "  </tbody>\n",
       "</table>\n",
       "</div>"
      ],
      "text/plain": [
       "   doc_id                                              Title  \\\n",
       "0       1  [Light scattering by cell suspensions in norma...   \n",
       "1       2  [The fragmentation and reconstruction of the o...   \n",
       "2       3  [Study of acetyl-CoA-synthetase from staphyloc...   \n",
       "3       4  [Effect of prosthetic group of horseradish per...   \n",
       "4       5                [Wheat protein disulfide reductase]   \n",
       "\n",
       "                                            Abstract  \\\n",
       "0  The characteristics of light scattering of cel...   \n",
       "1  The protein and proteolipid complexes and olig...   \n",
       "2  Acetyl-CoA-synthetase was isolated from cells ...   \n",
       "3  Constants of inactivation rate of horseradish ...   \n",
       "4  Proteindisulphide reductase is isolated and pa...   \n",
       "\n",
       "                                     DOI  \\\n",
       "0  https://pubmed.ncbi.nlm.nih.gov/1100/   \n",
       "1  https://pubmed.ncbi.nlm.nih.gov/1103/   \n",
       "2  https://pubmed.ncbi.nlm.nih.gov/1104/   \n",
       "3  https://pubmed.ncbi.nlm.nih.gov/1105/   \n",
       "4  https://pubmed.ncbi.nlm.nih.gov/1106/   \n",
       "\n",
       "                                      AbstractVector  \n",
       "0  [0.006501656, -0.14199008, 0.009908089, -0.053...  \n",
       "1  [0.0033499182, -0.053660918, 0.053273335, 0.02...  \n",
       "2  [0.011662829, -0.02032138, 0.018208493, -0.043...  \n",
       "3  [-0.023887841, -0.033442575, 0.030742425, -0.0...  \n",
       "4  [-0.042119388, -0.06871767, 0.014972381, 0.026...  "
      ]
     },
     "execution_count": 15,
     "metadata": {},
     "output_type": "execute_result"
    }
   ],
   "source": [
    "\n",
    "df.head()"
   ]
  },
  {
   "cell_type": "code",
   "execution_count": 16,
   "metadata": {},
   "outputs": [
    {
     "data": {
      "text/plain": [
       "True"
      ]
     },
     "execution_count": 16,
     "metadata": {},
     "output_type": "execute_result"
    }
   ],
   "source": [
    "es.ping()"
   ]
  },
  {
   "cell_type": "markdown",
   "metadata": {},
   "source": [
    "## Create new index in ElasticSearch!"
   ]
  },
  {
   "cell_type": "code",
   "execution_count": 18,
   "metadata": {},
   "outputs": [
    {
     "data": {
      "text/plain": [
       "ObjectApiResponse({'acknowledged': True, 'shards_acknowledged': True, 'index': 'is'})"
      ]
     },
     "execution_count": 18,
     "metadata": {},
     "output_type": "execute_result"
    }
   ],
   "source": [
    "from indexMapping import indexMapping\n",
    "es.indices.create(index=\"is\", body=indexMapping)"
   ]
  },
  {
   "cell_type": "markdown",
   "metadata": {},
   "source": [
    "## Ingest the data into index"
   ]
  },
  {
   "cell_type": "code",
   "execution_count": 11,
   "metadata": {},
   "outputs": [],
   "source": [
    "record_list = df.to_dict(\"records\")"
   ]
  },
  {
   "cell_type": "code",
   "execution_count": 19,
   "metadata": {},
   "outputs": [],
   "source": [
    "\n",
    "for record in record_list:\n",
    "    try:\n",
    "        es.index(index=\"is\", document=record, id=record['doc_id'])\n",
    "    except Exception as e:\n",
    "        print(e)"
   ]
  },
  {
   "cell_type": "code",
   "execution_count": 20,
   "metadata": {},
   "outputs": [
    {
     "data": {
      "text/plain": [
       "ObjectApiResponse({'count': 4306, '_shards': {'total': 1, 'successful': 1, 'skipped': 0, 'failed': 0}})"
      ]
     },
     "execution_count": 20,
     "metadata": {},
     "output_type": "execute_result"
    }
   ],
   "source": [
    "es.count(index=\"is\")"
   ]
  },
  {
   "cell_type": "markdown",
   "metadata": {},
   "source": [
    "## Search the data"
   ]
  },
  {
   "cell_type": "code",
   "execution_count": 23,
   "metadata": {},
   "outputs": [
    {
     "name": "stderr",
     "output_type": "stream",
     "text": [
      "C:\\Users\\C4\\AppData\\Local\\Temp\\ipykernel_940\\676040731.py:11: GeneralAvailabilityWarning: This API is in technical preview and may be changed or removed in a future release. Elastic will work to fix any issues, but features in technical preview are not subject to the support SLA of official GA features.\n",
      "  res = es.knn_search(index=\"is\", knn=query , source=[\"Title\",\"Abstract\"])\n",
      "C:\\Users\\C4\\AppData\\Local\\Temp\\ipykernel_940\\676040731.py:11: ElasticsearchWarning: The kNN search API has been replaced by the `knn` option in the search API.\n",
      "  res = es.knn_search(index=\"is\", knn=query , source=[\"Title\",\"Abstract\"])\n"
     ]
    },
    {
     "data": {
      "text/plain": [
       "[{'_index': 'is',\n",
       "  '_id': '961',\n",
       "  '_score': 0.42772973,\n",
       "  '_source': {'Title': 'Macroscopic patterns of interacting contagions are indistinguishable from social reinforcement',\n",
       "   'Abstract': 'From ‘fake news’ to innovative technologies, many contagions spread as complex contagions via a process of social reinforcement, where multiple exposures are distinct from prolonged exposure to a single source1. Contrarily, biological agents such as Ebola or measles are typically thought to spread as simple contagions2. Here, we demonstrate that these different spreading mechanisms can have indistinguishable population-level dynamics once multiple contagions interact. In the social context, our results highlight the challenge of identifying and quantifying spreading mechanisms, such as social reinforcement3, in a world where an innumerable number of ideas, memes and behaviours interact. In the biological context, this parallel allows the use of complex contagions to effectively quantify the non-trivial interactions of infectious diseases. Knowledge of the spreading mechanisms of contagions is important for understanding a range of epidemiological and social problems. A study now shows that so-called simple and complex contagions cannot be told apart if there is more than one simple contagion traversing the population at the same time.'}},\n",
       " {'_index': 'is',\n",
       "  '_id': '1561',\n",
       "  '_score': 0.4274368,\n",
       "  '_source': {'Title': 'The effect of a prudent adaptive behaviour on disease transmission',\n",
       "   'Abstract': 'The common policy of replacing infected individuals with healthy substitutes can have the effect of accelerating disease transmission. A dynamic network model suggests that standard modelling approaches underplay the effect of network structure. The spread of disease can be slowed by certain aspects of real-world social networks, such as clustering1,2 and community structure3, and of human behaviour, including social distancing4 and increased hygiene5, many of which have already been studied. Here, we consider a model in which individuals with essential societal roles—be they teachers, first responders or health-care workers—fall ill, and are replaced with healthy individuals. We refer to this process as relational exchange, and incorporate it into a dynamic network model to demonstrate that replacing individuals can accelerate disease transmission. We find that the effects of this process are trivial in the context of a standard mass-action model, but dramatic when considering network structure, featuring accelerating spread, discontinuous transitions and hysteresis loops. This result highlights the inability of mass-action models to account for many behavioural processes. Using empirical data, we find that this mechanism parsimoniously explains observed patterns across 17 influenza outbreaks in the USA at a national level, 25 years of influenza data at the state level, and 19 years of dengue virus data from Puerto Rico. We anticipate that our findings will advance the emerging field of disease forecasting and better inform public health decision making during outbreaks.'}}]"
      ]
     },
     "execution_count": 23,
     "metadata": {},
     "output_type": "execute_result"
    }
   ],
   "source": [
    "input_keyword = \"Infection\"\n",
    "vector_of_input_keyword = model.encode(input_keyword)\n",
    "\n",
    "query = {\n",
    "    \"field\" : \"AbstractVector\",\n",
    "    \"query_vector\" : vector_of_input_keyword,\n",
    "    \"k\" : 2,\n",
    "    \"num_candidates\" : 10000, \n",
    "}\n",
    "\n",
    "res = es.knn_search(index=\"is\", knn=query , source=[\"Title\",\"Abstract\"])\n",
    "res[\"hits\"][\"hits\"]"
   ]
  }
 ],
 "metadata": {
  "kernelspec": {
   "display_name": "venv",
   "language": "python",
   "name": "python3"
  },
  "language_info": {
   "codemirror_mode": {
    "name": "ipython",
    "version": 3
   },
   "file_extension": ".py",
   "mimetype": "text/x-python",
   "name": "python",
   "nbconvert_exporter": "python",
   "pygments_lexer": "ipython3",
   "version": "3.10.0"
  },
  "orig_nbformat": 4
 },
 "nbformat": 4,
 "nbformat_minor": 2
}
